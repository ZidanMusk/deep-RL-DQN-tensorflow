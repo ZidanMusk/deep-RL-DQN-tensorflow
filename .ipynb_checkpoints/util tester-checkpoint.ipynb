{
 "cells": [
  {
   "cell_type": "code",
   "execution_count": 1,
   "metadata": {
    "collapsed": true
   },
   "outputs": [],
   "source": [
    "import os\n",
    "import sys\n",
    "if \"../\" not in sys.path:\n",
    "  sys.path.append(\"../\")"
   ]
  },
  {
   "cell_type": "code",
   "execution_count": 14,
   "metadata": {
    "collapsed": false
   },
   "outputs": [],
   "source": [
    "ge = \"ge\"\n",
    "checkpoint_dir = os.path.join(\"./checkpoints\",ge)\n",
    "checkpoint_path = os.path.join(checkpoint_dir, \"model\")\n",
    "monitor_path = os.path.join('./', \"monitor\")"
   ]
  },
  {
   "cell_type": "code",
   "execution_count": 15,
   "metadata": {
    "collapsed": false
   },
   "outputs": [],
   "source": [
    "if not os.path.exists(checkpoint_dir):\n",
    "    os.makedirs(checkpoint_dir)\n",
    "if not os.path.exists(monitor_path):\n",
    "    os.makedirs(monitor_path)"
   ]
  },
  {
   "cell_type": "code",
   "execution_count": 16,
   "metadata": {
    "collapsed": true
   },
   "outputs": [],
   "source": [
    "qNetDir = 'modelWeights/qNet'\n",
    "tNetDir = 'modelWeights/tNet'\n",
    "monitorDir = 'gymRecordings'"
   ]
  },
  {
   "cell_type": "code",
   "execution_count": 23,
   "metadata": {
    "collapsed": false
   },
   "outputs": [],
   "source": [
    "monitorDir = os.path.join('DQN/',monitorDir)\n",
    "qNetDir = os.path.join('DQN/',qNetDir)\n",
    "tNetDir = os.path.join('DQN/',tNetDir)\n"
   ]
  },
  {
   "cell_type": "code",
   "execution_count": 25,
   "metadata": {
    "collapsed": true
   },
   "outputs": [],
   "source": [
    "monitorDir = os.path.join(monitorDir,'DQN')\n",
    "qNetDir = os.path.join(qNetDir,'DQN')\n",
    "tNetDir = os.path.join(tNetDir,'DQN')\n",
    "\n",
    "if not os.path.exists(monitorDir):\n",
    "    os.makedirs(monitorDir)\n",
    "#if not os.path.exists(qNetDir):\n",
    "#    os.makedirs(qNetDir)\n",
    "if not os.path.exists(tNetDir):\n",
    "    os.makedirs(tNetDir)"
   ]
  },
  {
   "cell_type": "code",
   "execution_count": null,
   "metadata": {
    "collapsed": true
   },
   "outputs": [],
   "source": []
  }
 ],
 "metadata": {
  "kernelspec": {
   "display_name": "Python 2",
   "language": "python",
   "name": "python2"
  },
  "language_info": {
   "codemirror_mode": {
    "name": "ipython",
    "version": 2
   },
   "file_extension": ".py",
   "mimetype": "text/x-python",
   "name": "python",
   "nbconvert_exporter": "python",
   "pygments_lexer": "ipython2",
   "version": "2.7.13"
  }
 },
 "nbformat": 4,
 "nbformat_minor": 1
}
